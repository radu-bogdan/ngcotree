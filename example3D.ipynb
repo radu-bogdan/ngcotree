{
 "cells": [
  {
   "cell_type": "markdown",
   "id": "675ed41a-b306-474a-b040-c9f65011a766",
   "metadata": {},
   "source": [
    "# Magnetostatic examples (3D)\n",
    "\n",
    "\n",
    "## 1) Equations\n",
    "Let us consider the following Maxwell's equations on a 3D domain $\\Omega$:\n",
    "\n",
    "$$\n",
    "\\left \\{\n",
    "\\begin{array}{ll}\n",
    "\\underline{\\text{curl}}~ \\underline{h} = \\underline{j} & \\text{(Maxwell-Ampère),} \\\\\n",
    "\\text{div}~ \\underline{b}  = 0 & \\text{(Maxwell-Thomson),} \n",
    "\\end{array} \\right.\n",
    "$$\n",
    "\n",
    "where $\\underline{h}$ is the magnetic field ($A/m$), $\\underline{j}$ the current density ($A/m^2$) and $\\underline{b}$ the flux density ($T$). The Maxwell-Thomson equation can be strongly ensured by defining a vector potential $\\underline{a}$, such that \n",
    "\n",
    "$$ \\underline{b} = \\underline{\\text{curl}}~\\underline{a}. $$\n",
    "\n",
    "Assuming all materials to be linear, isotropic and non-polarized, the behavior law reads\n",
    "\n",
    "$$ \\underline{h} = \\nu ~ \\underline{b}, $$\n",
    "\n",
    "with $\\nu = \\mu^{-1}$ as the scalar magnetic reluctivity. By injecting these two relations into Maxwell-Ampère equations, one obtains the following primal (or B-conform) magnetostatic equation:  \n",
    " \n",
    " $$\\underline{\\text{curl}}~ (\\nu ~ \\underline{\\text{curl}}~\\underline{a}) = \\underline{j}.$$\n",
    " \n",
    "Taking any test function $\\underline{a}^*$ in a certain space $H_{\\text{curl}}(\\Omega) = \\{ a\\in L^2(\\Omega), \\text{curl}~a \\in L^2(\\Omega) \\}$ where the curl operator can be applied. The weak form of this equation reads\n",
    "\n",
    " $$ \\forall \\underline{a}^*\\in H_{\\text{curl}}(\\Omega), \\quad \\int_\\Omega \\underline{a}^* \\cdot \\underline{\\text{curl}}~ (\\nu ~ \\underline{\\text{curl}}~\\underline{a}) = \\int_\\Omega \\underline{a}^* \\cdot \\underline{j}$$\n",
    " \n",
    " By integrating by part, *i.e.* by using:\n",
    "  - first the Leibniz formula $ \\underline{A} \\cdot \\underline{\\text{curl}}~ \\underline{B} = \\underline{B} \\cdot \\underline{\\text{curl}}~ \\underline{A} - \\text{div}~(\\underline{A} \\times \\underline{B}) $,\n",
    "  - then the Green-Ostrogradski formula $\\int_\\Omega \\text{div}~(\\underline{A} \\times \\underline{B}) =  \\int_{\\partial \\Omega} (\\underline{A} \\times \\underline{B}) \\cdot \\underline{n}$,\n",
    " \n",
    "we obtain after some manipulations:\n",
    " $$  \\forall \\underline{a}^*\\in H_{\\text{curl}}(\\Omega), \\quad\\int_\\Omega \\underline{\\text{curl}}~\\underline{a}^* \\cdot (\\nu~\\underline{\\text{curl}}~\\underline{a}) - \\int_{\\partial \\Omega} \\underline{a}^* \\cdot ((\\nu~\\underline{\\text{curl}}~\\underline{a} )\\times \\underline{n}) = \\int_\\Omega \\underline{a}^* \\cdot \\underline{j}$$\n",
    " \n",
    "Assuming the boundary term equal to 0, the weak form reads:\n",
    "\n",
    " $$ \\boxed{  \\forall \\underline{a}^*\\in H_{\\text{curl}}(\\Omega), \\quad \\int_\\Omega \\underline{\\text{curl}}~\\underline{a}^* \\cdot (\\nu~\\underline{\\text{curl}}~\\underline{a}) = \\int_\\Omega \\underline{a}^* \\cdot \\underline{j}}$$\n",
    "\n",
    "Even with appropriate boundary conditions, the solution $a$ of this equation is not unique : indeed, for any $\\psi$ such as $\\nabla \\psi=0$ on $\\partial \\Omega$, $a+\\nabla \\psi$ is still a solution. Therefore, there are three possibilities to solve the problem:\n",
    "1. Add a small **penalized mass term**, so that the problem is not singular anymore but is (a little bit) perturbed\n",
    "2. Solve the problem with an **iterative method**, where $\\psi$ is fixed from the initial guess ; however, the right hand side should remain compatible\n",
    "3. Add a **constraint (gauging)**, so that the problem is not singular anymore. \n",
    "\n",
    "In this example a 3D inductance is simulated.\n",
    "\n",
    "## 2) Geometry"
   ]
  },
  {
   "cell_type": "code",
   "execution_count": 1,
   "id": "518877c4-c9ba-4d02-93dc-4199213feb03",
   "metadata": {},
   "outputs": [
    {
     "data": {
      "application/vnd.jupyter.widget-view+json": {
       "model_id": "dc02f042b04a43e6af738d0d61475077",
       "version_major": 2,
       "version_minor": 0
      },
      "text/plain": [
       "WebGuiWidget(layout=Layout(height='50vh', width='100%'), value={'gui_settings': {}, 'ngsolve_version': '6.2.24…"
      ]
     },
     "metadata": {},
     "output_type": "display_data"
    },
    {
     "data": {
      "text/plain": [
       "BaseWebGuiScene"
      ]
     },
     "execution_count": 1,
     "metadata": {},
     "output_type": "execute_result"
    }
   ],
   "source": [
    "from ngcotree import *\n",
    "from geometries import *\n",
    "from ngsolve import *\n",
    "from ngsolve.webgui import Draw\n",
    "from netgen.webgui import Draw as DrawGeo\n",
    "from ngsolve.krylovspace import CGSolver\n",
    "\n",
    "mesh = Mesh(inductance().GenerateMesh(maxh=0.002))\n",
    "Draw(mesh)"
   ]
  },
  {
   "cell_type": "markdown",
   "id": "478c92e4-9bd0-48f5-957d-17a3dda85b8f",
   "metadata": {},
   "source": [
    "## 3) Current generation\n",
    "### 3a) From a scalar potential with Neumann BC\n"
   ]
  },
  {
   "cell_type": "code",
   "execution_count": 2,
   "id": "90fbe4ef-827e-4b84-81bb-d111a6b5f274",
   "metadata": {},
   "outputs": [
    {
     "name": "stdout",
     "output_type": "stream",
     "text": [
      "Solving...\n",
      "... Success!\n",
      "Number of iterations = 93/1000 | Residual = 7.358452390119383e-09\n"
     ]
    },
    {
     "data": {
      "application/vnd.jupyter.widget-view+json": {
       "model_id": "ef414a44daa442bcb8fde14e43f647fa",
       "version_major": 2,
       "version_minor": 0
      },
      "text/plain": [
       "WebGuiWidget(layout=Layout(height='50vh', width='100%'), value={'gui_settings': {}, 'ngsolve_version': '6.2.24…"
      ]
     },
     "metadata": {},
     "output_type": "display_data"
    },
    {
     "data": {
      "text/plain": [
       "BaseWebGuiScene"
      ]
     },
     "execution_count": 2,
     "metadata": {},
     "output_type": "execute_result"
    }
   ],
   "source": [
    "sigma  = mesh.MaterialCF({\"Coil\" : 5.9e7}, default = 0)\n",
    "I=1\n",
    "\n",
    "def solveJgrad(mesh, I):\n",
    "    fes = H1(mesh, definedon=\"Coil\", dirichlet = \"currentOutput\")\n",
    "    Jref = I/Integrate(CF(1)*ds(\"currentOutput\"), mesh)\n",
    "\n",
    "    # Weak form\n",
    "    u, ustar = fes.TnT()\n",
    "    Ku = BilinearForm(grad(ustar)*sigma*grad(u)*dx)\n",
    "    fu = LinearForm(-ustar*Jref*ds(\"currentInput\")) \n",
    "\n",
    "    # Assembly\n",
    "    with TaskManager():\n",
    "        Ku.Assemble()\n",
    "        fu.Assemble()\n",
    "    \n",
    "    # Solving\n",
    "    maxres = 1e-8\n",
    "    maxit = 1000\n",
    "                              \n",
    "    Usol = GridFunction(fes)\n",
    "    print(\"Solving...\")\n",
    "    with TaskManager():\n",
    "        iterativeSolver = CGSolver(Ku.mat, freedofs=fes.FreeDofs(), atol   = maxres,  maxiter   = maxit)\n",
    "        Usol.vec.data = iterativeSolver * fu.vec\n",
    "\n",
    "    if len(iterativeSolver.residuals)==maxit:\n",
    "        print(\"... Failure!\")\n",
    "    else:\n",
    "        print(\"... Success!\")\n",
    "    print(f\"Number of iterations = {iterativeSolver.iterations}/{maxit} | Residual = {iterativeSolver.residuals[-1]}\")\n",
    "    \n",
    "    return Usol\n",
    "\n",
    "U = solveJgrad(mesh, I)   \n",
    "Draw(-sigma*grad(U), mesh, vectors = { \"grid_size\":50}, clipping = {\"x\" : 0, \"y\" : -1, \"z\" : 0, \"dist\" : 0})"
   ]
  },
  {
   "cell_type": "markdown",
   "id": "e09a7e22-def5-4537-92ae-ee534f5f94be",
   "metadata": {},
   "source": [
    "### 3b) From a vector potential with Dirichlet BC"
   ]
  },
  {
   "cell_type": "code",
   "execution_count": 3,
   "id": "6052787a-9f64-4bbb-99b7-0d103ffa5aa5",
   "metadata": {},
   "outputs": [
    {
     "name": "stdout",
     "output_type": "stream",
     "text": [
      "Solving...\n",
      "Number of iterations = 125/1000 | Residual = 7.397024608618317e-09\n"
     ]
    },
    {
     "data": {
      "application/vnd.jupyter.widget-view+json": {
       "model_id": "7daac848c40a4e7abae465439d533a43",
       "version_major": 2,
       "version_minor": 0
      },
      "text/plain": [
       "WebGuiWidget(layout=Layout(height='50vh', width='100%'), value={'gui_settings': {}, 'ngsolve_version': '6.2.24…"
      ]
     },
     "metadata": {},
     "output_type": "display_data"
    },
    {
     "data": {
      "text/plain": [
       "BaseWebGuiScene"
      ]
     },
     "execution_count": 3,
     "metadata": {},
     "output_type": "execute_result"
    }
   ],
   "source": [
    "def solveJrot(mesh, I):\n",
    "    fes = HCurl(mesh, definedon=\"Coil\", dirichlet = \"botCoil|topCoil|outCoil|intCoil\")\n",
    "       \n",
    "    gfuDirichlet = GridFunction(fes)\n",
    "    g = CF([(0,-I/(0.5*0.0254),0) if bc==\"intCoil\"  else (0,0,0) for bc in mesh.GetBoundaries()])\n",
    "    gfuDirichlet.Set(g,BND)\n",
    "    \n",
    "    # Weak form\n",
    "    T, Tstar = fes.TnT()\n",
    "    Kt = BilinearForm(curl(Tstar)*curl(T)*dx)\n",
    "    \n",
    "    # Assembly\n",
    "    with TaskManager():\n",
    "        Kt.Assemble()\n",
    "    \n",
    "    r = - Kt.mat * gfuDirichlet.vec\n",
    "    \n",
    "    # Solving\n",
    "    maxres = 1e-8\n",
    "    maxit = 1000\n",
    "                              \n",
    "    Tsol = GridFunction(fes)\n",
    "    print(\"Solving...\")\n",
    "    with TaskManager():\n",
    "        iterativeSolver = CGSolver(Kt.mat, freedofs=fes.FreeDofs(), atol  = maxres,  maxiter   = maxit)\n",
    "        Tsol.vec.data = iterativeSolver * r + gfuDirichlet.vec\n",
    "        \n",
    "    print(f\"Number of iterations = {iterativeSolver.iterations}/{maxit} | Residual = {iterativeSolver.residuals[-1]}\")\n",
    "    \n",
    "    return Tsol\n",
    "\n",
    "T = solveJrot(mesh, I) \n",
    "Draw(curl(T), mesh, vectors = { \"grid_size\":50}, clipping = {\"x\" : 0, \"y\" : -1, \"z\" : 0, \"dist\" : 0})"
   ]
  },
  {
   "cell_type": "markdown",
   "id": "bc6957fc-8674-40e0-8845-916565816dfb",
   "metadata": {},
   "source": [
    "# 4) Resolutions\n",
    "## 4a) Penalization"
   ]
  },
  {
   "cell_type": "code",
   "execution_count": 4,
   "id": "2dbaa92f-39a9-4f12-991c-a6ec565a0aba",
   "metadata": {},
   "outputs": [
    {
     "name": "stdout",
     "output_type": "stream",
     "text": [
      "Number of iterations = 168/10000 | Residual = 9.758454637769928e-09\n"
     ]
    },
    {
     "data": {
      "application/vnd.jupyter.widget-view+json": {
       "model_id": "03306c7f267a4463a01921ae6bdb2637",
       "version_major": 2,
       "version_minor": 0
      },
      "text/plain": [
       "WebGuiWidget(layout=Layout(height='50vh', width='100%'), value={'gui_settings': {}, 'ngsolve_version': '6.2.24…"
      ]
     },
     "metadata": {},
     "output_type": "display_data"
    },
    {
     "data": {
      "text/plain": [
       "BaseWebGuiScene"
      ]
     },
     "execution_count": 4,
     "metadata": {},
     "output_type": "execute_result"
    }
   ],
   "source": [
    "nu =  mesh.MaterialCF({\"Bar\" : 1/(2500*4e-7*np.pi), \"Core\" : 1/(1000*4e-7*np.pi)}, default = 1/(4e-7*np.pi))\n",
    "\n",
    "def SolvePenal(mesh, nu, j , epsilon = 1e-6, order = 0):\n",
    "    fes = HCurl(mesh, order = order, dirichlet = \"out|antiSymmetry|currentInput|currentOutput\")\n",
    "    a, aStar = fes.TnT()\n",
    "    \n",
    "    bf = BilinearForm( curl(aStar) * (nu * curl(a)) * dx)\n",
    "    bf += epsilon * aStar * nu * a * dx  # Penalization\n",
    "    lf = LinearForm( aStar * j * dx )\n",
    "    c = Preconditioner(bf, 'local')\n",
    "    bf.Assemble()\n",
    "    lf.Assemble()\n",
    "    \n",
    "    fd=fes.FreeDofs()\n",
    "    fd[0] = 0\n",
    "    \n",
    "    aSol = GridFunction(fes)\n",
    "    with TaskManager():\n",
    "        iterativeSolver = CGSolver(bf.mat, c.mat, atol  = 1e-8,  maxiter   = 10000)\n",
    "        aSol.vec.data = iterativeSolver * lf.vec\n",
    "    print(f\"Number of iterations = {iterativeSolver.iterations}/{10000} | Residual = {iterativeSolver.residuals[-1]}\")\n",
    "    return aSol\n",
    "\n",
    "aPen = SolvePenal(mesh, nu, curl(T))\n",
    "Draw(curl(aPen), mesh, vectors = { \"grid_size\":50}, clipping = {\"x\" : 0, \"y\" : 0, \"z\" : 1, \"dist\" : 0.01})"
   ]
  },
  {
   "cell_type": "markdown",
   "id": "c02b944d-c9d9-4886-ae39-8b126c32a701",
   "metadata": {},
   "source": [
    "## 4b) Compatible RHS\n",
    "Projection of the current on Hcurl in the whole domain."
   ]
  },
  {
   "cell_type": "code",
   "execution_count": 5,
   "id": "4ec18f82-60e0-4f21-a210-ffb7438e227f",
   "metadata": {},
   "outputs": [
    {
     "name": "stdout",
     "output_type": "stream",
     "text": [
      "Solving...\n",
      "Number of iterations = 245/10000 | Residual = 9.519899028234845e-09\n"
     ]
    },
    {
     "data": {
      "application/vnd.jupyter.widget-view+json": {
       "model_id": "905edb8537684e92ac455f30cd25e90a",
       "version_major": 2,
       "version_minor": 0
      },
      "text/plain": [
       "WebGuiWidget(layout=Layout(height='50vh', width='100%'), value={'gui_settings': {}, 'ngsolve_version': '6.2.24…"
      ]
     },
     "metadata": {},
     "output_type": "display_data"
    },
    {
     "data": {
      "text/plain": [
       "BaseWebGuiScene"
      ]
     },
     "execution_count": 5,
     "metadata": {},
     "output_type": "execute_result"
    }
   ],
   "source": [
    "def projL2Hcurl(mesh,JL2):\n",
    "    W1 = HCurl(mesh,dirichlet = \"out\")\n",
    "     ## Weak form\n",
    "    T, Tstar = W1.TnT()\n",
    "    Kt = BilinearForm(curl(Tstar)*curl(T)*dx)\n",
    "    ft = LinearForm(curl(Tstar)*JL2*dx) \n",
    "    pre = Preconditioner(Kt, \"local\")\n",
    "    ## Assembly\n",
    "    with TaskManager():\n",
    "        Kt.Assemble()\n",
    "        ft.Assemble()\n",
    "\n",
    "    maxres = 1e-8\n",
    "    maxit = 10000\n",
    "\n",
    "    Tsol = GridFunction(W1)\n",
    "    \n",
    "    print(\"Solving...\")\n",
    "    with TaskManager():\n",
    "        iterativeSolver = CGSolver(Kt.mat, pre, atol  = 1e-8,  maxiter   = 10000)\n",
    "        Tsol.vec.data = iterativeSolver * ft.vec   \n",
    "    print(f\"Number of iterations = {iterativeSolver.iterations}/{10000} | Residual = {iterativeSolver.residuals[-1]}\")\n",
    "    return Tsol\n",
    "\n",
    "Tsol = projL2Hcurl(mesh,curl(T))\n",
    "#Tsol = projL2Hcurl(mesh,-sigma*grad(U))\n",
    "Draw(curl(Tsol), mesh, vectors = { \"grid_size\":100}, clipping = {\"x\" : 0, \"y\" : -1, \"z\" : 0, \"dist\" : 0})"
   ]
  },
  {
   "cell_type": "markdown",
   "id": "13585c8f-de98-4c61-acac-fd5b178d7221",
   "metadata": {},
   "source": [
    "Computation of 3D magnetostatics with compatible RHS and no gauging."
   ]
  },
  {
   "cell_type": "code",
   "execution_count": 6,
   "id": "b842bdea-c354-4c4b-819c-5080d673db81",
   "metadata": {},
   "outputs": [
    {
     "name": "stdout",
     "output_type": "stream",
     "text": [
      "Solving...\n",
      "Number of iterations = 168/10000 | Residual = 9.758502889405522e-09\n"
     ]
    },
    {
     "data": {
      "application/vnd.jupyter.widget-view+json": {
       "model_id": "1dfd12e5bba544c1af1c9847b525a664",
       "version_major": 2,
       "version_minor": 0
      },
      "text/plain": [
       "WebGuiWidget(layout=Layout(height='50vh', width='100%'), value={'gui_settings': {}, 'ngsolve_version': '6.2.24…"
      ]
     },
     "metadata": {},
     "output_type": "display_data"
    },
    {
     "data": {
      "text/plain": [
       "BaseWebGuiScene"
      ]
     },
     "execution_count": 6,
     "metadata": {},
     "output_type": "execute_result"
    }
   ],
   "source": [
    "def solveCompatibleRHS(mesh,Tsol):\n",
    "    jHCurl = curl(Tsol)\n",
    "    W1 = HCurl(mesh,dirichlet = \"out|antiSymmetry|currentInput|currentOutput\")         \n",
    "\n",
    "    ## Weak form\n",
    "    a, astar = W1.TnT()\n",
    "    Kmag_singular = BilinearForm(nu*curl(astar)*curl(a)*dx)\n",
    "    fmag_singular = LinearForm(curl(astar)*Tsol*dx) \n",
    "    #fmag_singular = LinearForm(astar*curl(Tsol)*dx) \n",
    "\n",
    "    ## Assembly\n",
    "    with TaskManager():\n",
    "        Pre = Preconditioner(Kmag_singular, \"local\") \n",
    "        Kmag_singular.Assemble()\n",
    "        fmag_singular.Assemble()\n",
    "\n",
    "    maxres = 1e-8\n",
    "    maxit = 10000\n",
    "\n",
    "    Asol = GridFunction(W1)\n",
    "    \n",
    "    print(\"Solving...\")\n",
    "    with TaskManager():\n",
    "        iterativeSolver = CGSolver(Kmag_singular.mat, Pre, atol  = maxres,  maxiter   = maxit)\n",
    "        #iterativeSolver = CGSolver(Kmag_singular.mat, freedofs = W1.FreeDofs(), tol  = maxres,  maxiter  = maxit)\n",
    "        Asol.vec.data = iterativeSolver * fmag_singular.vec   \n",
    "\n",
    "    print(f\"Number of iterations = {iterativeSolver.iterations}/{maxit} | Residual = {iterativeSolver.residuals[-1]}\")\n",
    "    return Asol, iterativeSolver.residuals\n",
    "\n",
    "Arhs, info = solveCompatibleRHS(mesh,Tsol) # compatible current\n",
    "Draw(curl(Arhs), mesh, vectors = { \"grid_size\":50}, clipping = {\"x\" : 0, \"y\" : 0, \"z\" : 1, \"dist\" : 0.01})"
   ]
  },
  {
   "cell_type": "markdown",
   "id": "3b79fc01-825f-42f0-92b5-8b9bc625a1c0",
   "metadata": {},
   "source": [
    "## 4c) Tree-Cotree gauging\n",
    "\n",
    "The system is smaller and converges even with non-compatible RHS, but the condition number is increased so the CG needs more iterations to converge."
   ]
  },
  {
   "cell_type": "code",
   "execution_count": 7,
   "id": "eda15616-a438-4651-b6d8-eb31da51afc3",
   "metadata": {},
   "outputs": [
    {
     "name": "stdout",
     "output_type": "stream",
     "text": [
      "Number of iterations = 830/10000 | Residual = 9.701335932034209e-09\n"
     ]
    },
    {
     "data": {
      "application/vnd.jupyter.widget-view+json": {
       "model_id": "cef4440c8f4e4e138a4f7975de90ffdb",
       "version_major": 2,
       "version_minor": 0
      },
      "text/plain": [
       "WebGuiWidget(layout=Layout(height='50vh', width='100%'), value={'gui_settings': {}, 'ngsolve_version': '6.2.24…"
      ]
     },
     "metadata": {},
     "output_type": "display_data"
    },
    {
     "data": {
      "text/plain": [
       "BaseWebGuiScene"
      ]
     },
     "execution_count": 7,
     "metadata": {},
     "output_type": "execute_result"
    }
   ],
   "source": [
    "def SolveCoTree(mesh, nu, j , epsilon = 1e-6, order = 0):\n",
    "    fes = HCurl(mesh, order = order, dirichlet = \"out|antiSymmetry|currentInput|currentOutput\")\n",
    "    fes.FreeDofs()[:] = CoTreeBitArray(mesh, fes)\n",
    "    \n",
    "    a, aStar = fes.TnT()\n",
    "    bf = BilinearForm( curl(aStar) * (nu * curl(a)) * dx)\n",
    "    lf = LinearForm( aStar * j * dx )\n",
    "    c = Preconditioner(bf, 'local')\n",
    "    bf.Assemble()\n",
    "    lf.Assemble()\n",
    "    \n",
    "    fd=fes.FreeDofs()\n",
    "    fd[0] = 0\n",
    "    \n",
    "    aSol = GridFunction(fes)\n",
    "    with TaskManager():\n",
    "        iterativeSolver = CGSolver(bf.mat, c.mat, atol  = 1e-8,  maxiter   = 10000)\n",
    "        aSol.vec.data = iterativeSolver * lf.vec\n",
    "    print(f\"Number of iterations = {iterativeSolver.iterations}/{10000} | Residual = {iterativeSolver.residuals[-1]}\")\n",
    "    return aSol\n",
    "\n",
    "aPen = SolveCoTree(mesh, nu, -sigma*grad(U)) # non-compatible current\n",
    "Draw(curl(aPen), mesh, vectors = { \"grid_size\":50}, clipping = {\"x\" : 0, \"y\" : 0, \"z\" : 1, \"dist\" : 0.01})"
   ]
  }
 ],
 "metadata": {
  "kernelspec": {
   "display_name": "Python 3 (ipykernel)",
   "language": "python",
   "name": "python3"
  },
  "language_info": {
   "codemirror_mode": {
    "name": "ipython",
    "version": 3
   },
   "file_extension": ".py",
   "mimetype": "text/x-python",
   "name": "python",
   "nbconvert_exporter": "python",
   "pygments_lexer": "ipython3",
   "version": "3.11.5"
  }
 },
 "nbformat": 4,
 "nbformat_minor": 5
}
