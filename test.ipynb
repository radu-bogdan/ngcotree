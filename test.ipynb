{
 "cells": [
  {
   "cell_type": "code",
   "execution_count": 1,
   "metadata": {},
   "outputs": [],
   "source": [
    "from ngsolve.webgui import Draw\n",
    "\n",
    "import numpy as np\n",
    "import ngsolve as ngs\n",
    "\n",
    "motor_npz = np.load('motor_pizza.npz', allow_pickle = True)\n",
    "\n",
    "geoOCC = motor_npz['geoOCC'].tolist()\n",
    "m = motor_npz['m']; m_new = m\n",
    "j3 = motor_npz['j3']\n",
    "\n",
    "geoOCCmesh = geoOCC.GenerateMesh()\n",
    "mesh = ngs.Mesh(geoOCCmesh)\n",
    "mesh.Refine()"
   ]
  },
  {
   "cell_type": "code",
   "execution_count": 2,
   "metadata": {},
   "outputs": [
    {
     "data": {
      "text/plain": [
       "<ngsolve.comp.LinearForm at 0x25e68f48870>"
      ]
     },
     "execution_count": 2,
     "metadata": {},
     "output_type": "execute_result"
    }
   ],
   "source": [
    "HCurl = ngs.HCurl(mesh, order = 2, nograds = True, dirichlet = 'left|right|stator_outer')\n",
    "# HCurl = ngs.HCurl(mesh, order = 2, nograds = True)\n",
    "\n",
    "u,v = HCurl.TnT()\n",
    "\n",
    "K = ngs.BilinearForm(HCurl)\n",
    "# K += (ngs.curl(u)*ngs.curl(v)+1e-5*u*v)*ngs.dx\n",
    "K += (ngs.curl(u)*ngs.curl(v)+0*u*v)*ngs.dx\n",
    "K.Assemble()\n",
    "\n",
    "f = ngs.LinearForm(HCurl)\n",
    "f += ngs.InnerProduct(ngs.CF(ngs.x**2),ngs.curl(v))*ngs.dx\n",
    "f.Assemble()"
   ]
  },
  {
   "cell_type": "code",
   "execution_count": 3,
   "metadata": {},
   "outputs": [],
   "source": [
    "%matplotlib qt\n",
    "from ngcotree import *\n",
    "newFreeDofs = CoTreeBitArray(mesh, HCurl, plot = True)"
   ]
  },
  {
   "cell_type": "code",
   "execution_count": 4,
   "metadata": {},
   "outputs": [
    {
     "data": {
      "application/vnd.jupyter.widget-view+json": {
       "model_id": "befcdfa571364582af5422234b263794",
       "version_major": 2,
       "version_minor": 0
      },
      "text/plain": [
       "WebGuiWidget(layout=Layout(height='500px', width='100%'), value={'gui_settings': {}, 'ngsolve_version': '6.2.2…"
      ]
     },
     "metadata": {},
     "output_type": "display_data"
    },
    {
     "data": {
      "application/vnd.jupyter.widget-view+json": {
       "model_id": "df9f6871b301491788ff3d715e04bff3",
       "version_major": 2,
       "version_minor": 0
      },
      "text/plain": [
       "WebGuiWidget(layout=Layout(height='500px', width='100%'), value={'gui_settings': {}, 'ngsolve_version': '6.2.2…"
      ]
     },
     "metadata": {},
     "output_type": "display_data"
    },
    {
     "data": {
      "text/plain": [
       "1.9496362694539297e-20"
      ]
     },
     "execution_count": 4,
     "metadata": {},
     "output_type": "execute_result"
    }
   ],
   "source": [
    "A = ngs.GridFunction(HCurl)\n",
    "A.vec.data = K.mat.Inverse(freedofs = newFreeDofs, inverse = 'sparsecholesky')*f.vec\n",
    "# A.vec.data = K.mat.Inverse(HCurl.FreeDofs(), inverse = 'sparsecholesky')*f.vec\n",
    "\n",
    "Draw(A, vectors={\"grid_size\":100})\n",
    "Draw(ngs.curl(A), mesh)\n",
    "A.vec.data.FV().NumPy().max()\n",
    "\n",
    "ngs.Integrate(ngs.curl(A),mesh)"
   ]
  }
 ],
 "metadata": {
  "kernelspec": {
   "display_name": "pdefem",
   "language": "python",
   "name": "python3"
  },
  "language_info": {
   "codemirror_mode": {
    "name": "ipython",
    "version": 3
   },
   "file_extension": ".py",
   "mimetype": "text/x-python",
   "name": "python",
   "nbconvert_exporter": "python",
   "pygments_lexer": "ipython3",
   "version": "3.10.13"
  }
 },
 "nbformat": 4,
 "nbformat_minor": 2
}
