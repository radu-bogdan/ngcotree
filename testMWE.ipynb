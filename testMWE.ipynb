{
 "cells": [
  {
   "cell_type": "code",
   "execution_count": 1,
   "id": "16727dd9-adb2-4d34-91cd-b1b6fec3541e",
   "metadata": {},
   "outputs": [
    {
     "name": "stdout",
     "output_type": "stream",
     "text": [
      "Meshing complete\n",
      "Number of elements : 26544, Number of edges :35559\n"
     ]
    },
    {
     "data": {
      "application/vnd.jupyter.widget-view+json": {
       "model_id": "46457cf4b8f742c5bd3872c786b5495f",
       "version_major": 2,
       "version_minor": 0
      },
      "text/plain": [
       "WebGuiWidget(layout=Layout(height='500px', width='100%'), value={'gui_settings': {}, 'ngsolve_version': '6.2.2…"
      ]
     },
     "metadata": {},
     "output_type": "display_data"
    },
    {
     "data": {
      "text/plain": [
       "BaseWebGuiScene"
      ]
     },
     "execution_count": 1,
     "metadata": {},
     "output_type": "execute_result"
    }
   ],
   "source": [
    "from geometry import *\n",
    "from ngcotree import *\n",
    "\n",
    "geo = geometryCoil()\n",
    "\n",
    "mesh = Mesh(geo.GenerateMesh(maxh=0.05))\n",
    "mesh.Refine()\n",
    "mesh.Curve(2)\n",
    "\n",
    "print(\"Meshing complete\")\n",
    "print(f\"Number of elements : {mesh.ne}, Number of edges :{mesh.nedge}\")\n",
    "Draw(mesh,clipping={\"x\" : 0, \"y\":1, \"z\" : 0, \"dist\":0.07*max(min(1,1/splitting),0.5)})"
   ]
  },
  {
   "cell_type": "code",
   "execution_count": 2,
   "id": "b83e8999-017c-4d86-9fed-22e82af05ff8",
   "metadata": {},
   "outputs": [
    {
     "data": {
      "application/vnd.jupyter.widget-view+json": {
       "model_id": "0ca58b56b904471db07dd9557f790f40",
       "version_major": 2,
       "version_minor": 0
      },
      "text/plain": [
       "WebGuiWidget(layout=Layout(height='500px', width='100%'), value={'gui_settings': {}, 'ngsolve_version': '6.2.2…"
      ]
     },
     "metadata": {},
     "output_type": "display_data"
    },
    {
     "data": {
      "text/plain": [
       "BaseWebGuiScene"
      ]
     },
     "execution_count": 2,
     "metadata": {},
     "output_type": "execute_result"
    }
   ],
   "source": [
    "jcf = 1e6*Normalize(CoefficientFunction((-y,x,0)))\n",
    "nu0 = 1/(4e-7*np.pi)\n",
    "nu  = mesh.MaterialCF({\"core\" : nu0/1000}, default = nu0)\n",
    "\n",
    "## Discretization on the mesh elements\n",
    "j = GridFunction(L2(mesh, dim = 3)); \n",
    "j.Set(jcf, definedon = mesh.Materials(\"coil\")) # outside \"coil\", j is set to 0\n",
    "\n",
    "Draw(j ,mesh,clipping={\"z\":-1, \"dist\":0},vectors = { \"grid_size\":100})"
   ]
  },
  {
   "cell_type": "code",
   "execution_count": 3,
   "id": "500c7e11-dabc-4710-b956-55acb379dd20",
   "metadata": {},
   "outputs": [
    {
     "name": "stdout",
     "output_type": "stream",
     "text": [
      "... Success!\n",
      "Are there NaN in the solution? [False False False ... False False False]\n"
     ]
    },
    {
     "data": {
      "application/vnd.jupyter.widget-view+json": {
       "model_id": "12c07c7c6c8e481680c07136a34eabdf",
       "version_major": 2,
       "version_minor": 0
      },
      "text/plain": [
       "WebGuiWidget(layout=Layout(height='500px', width='100%'), value={'gui_settings': {}, 'ngsolve_version': '6.2.2…"
      ]
     },
     "metadata": {},
     "output_type": "display_data"
    },
    {
     "data": {
      "text/plain": [
       "BaseWebGuiScene"
      ]
     },
     "execution_count": 3,
     "metadata": {},
     "output_type": "execute_result"
    }
   ],
   "source": [
    "## FE space\n",
    "dirichletLabels = \"dOmega_back|dOmega_forward|dOmega_right|dOmega_left|dOmega_up|dOmega_bottom\"\n",
    "W1 = HCurl(mesh, dirichlet=dirichletLabels)\n",
    "\n",
    "%matplotlib qt\n",
    "newFreeDofs = CoTreeBitArray(mesh, W1, plot = True)\n",
    "\n",
    "## Weak form\n",
    "a = W1.TrialFunction()\n",
    "astar = W1.TestFunction()\n",
    "K = BilinearForm(curl(astar)*nu*curl(a)*dx) # same as previous K\n",
    "f = LinearForm(astar*jcf*dx(\"coil\")) \n",
    "\n",
    "## Assembly\n",
    "with TaskManager():\n",
    "    K.Assemble()\n",
    "    f.Assemble()\n",
    "\n",
    "directSolver = K.mat.Inverse(freedofs = newFreeDofs, inverse = \"sparsecholesky\")\n",
    "solutionDirect = GridFunction(W1)\n",
    "\n",
    "with TaskManager():\n",
    "    solutionDirect.vec.data = directSolver * f.vec \n",
    "if np.sum(np.isnan(solutionDirect.vec[:].FV().NumPy())):\n",
    "    print(\"... Failure : singular system !\")\n",
    "else:\n",
    "    print(\"... Success!\")\n",
    "print(f\"Are there NaN in the solution? {np.isnan(solutionDirect.vec[:].FV().NumPy())}\")\n",
    "Draw(curl(solutionDirect),mesh,clipping = {\"x\" : 0, \"y\" : 1, \"z\" : 0, \"dist\" : 0},vectors = { \"grid_size\":100})"
   ]
  },
  {
   "cell_type": "code",
   "execution_count": 4,
   "id": "d0ea36e1",
   "metadata": {},
   "outputs": [],
   "source": [
    "# fig = plt.figure(projection='3d')"
   ]
  },
  {
   "cell_type": "code",
   "execution_count": null,
   "id": "14c7904a-1207-4b76-881a-164589576640",
   "metadata": {},
   "outputs": [],
   "source": []
  }
 ],
 "metadata": {
  "kernelspec": {
   "display_name": "Python 3 (ipykernel)",
   "language": "python",
   "name": "python3"
  },
  "language_info": {
   "codemirror_mode": {
    "name": "ipython",
    "version": 3
   },
   "file_extension": ".py",
   "mimetype": "text/x-python",
   "name": "python",
   "nbconvert_exporter": "python",
   "pygments_lexer": "ipython3",
   "version": "3.10.13"
  }
 },
 "nbformat": 4,
 "nbformat_minor": 5
}
